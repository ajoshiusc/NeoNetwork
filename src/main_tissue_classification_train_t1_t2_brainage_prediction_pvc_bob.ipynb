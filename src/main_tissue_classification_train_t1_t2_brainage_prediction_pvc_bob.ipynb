{
 "cells": [
  {
   "cell_type": "markdown",
   "metadata": {},
   "source": [
    "## Setup environment"
   ]
  },
  {
   "cell_type": "code",
   "execution_count": 1,
   "metadata": {
    "tags": []
   },
   "outputs": [],
   "source": [
    "!python -c \"import monai\" || pip install -q \"monai-weekly[nibabel, tqdm]\"\n",
    "!python -c \"import matplotlib\" || pip install -q matplotlib\n",
    "!python -c \"import onnxruntime\" || pip install -q onnxruntime\n",
    "%matplotlib inline\n",
    "\n",
    "\n",
    "#No need to mix the two datasets, we can do training separately on them. Or mix batches of data.\n",
    "#Also compute ROI volumes. Align atlaes to the same space.\n",
    "\n",
    "# for each roi, predict the age of the patient from that roi"
   ]
  },
  {
   "cell_type": "markdown",
   "metadata": {},
   "source": [
    "## Setup imports"
   ]
  },
  {
   "cell_type": "code",
   "execution_count": 2,
   "metadata": {
    "tags": []
   },
   "outputs": [
    {
     "name": "stdout",
     "output_type": "stream",
     "text": [
      "MONAI version: 1.4.0\n",
      "Numpy version: 2.2.0\n",
      "Pytorch version: 2.5.1+cu124\n",
      "MONAI flags: HAS_EXT = False, USE_COMPILED = False, USE_META_DICT = False\n",
      "MONAI rev id: 46a5272196a6c2590ca2589029eed8e4d56ff008\n",
      "MONAI __file__: /home/<username>/my_venv/lib/python3.11/site-packages/monai/__init__.py\n",
      "\n",
      "Optional dependencies:\n",
      "Pytorch Ignite version: NOT INSTALLED or UNKNOWN VERSION.\n",
      "ITK version: NOT INSTALLED or UNKNOWN VERSION.\n",
      "Nibabel version: 5.3.2\n",
      "scikit-image version: NOT INSTALLED or UNKNOWN VERSION.\n",
      "scipy version: 1.14.1\n",
      "Pillow version: 11.0.0\n",
      "Tensorboard version: NOT INSTALLED or UNKNOWN VERSION.\n",
      "gdown version: NOT INSTALLED or UNKNOWN VERSION.\n",
      "TorchVision version: NOT INSTALLED or UNKNOWN VERSION.\n",
      "tqdm version: 4.67.1\n",
      "lmdb version: NOT INSTALLED or UNKNOWN VERSION.\n",
      "psutil version: 6.1.0\n",
      "pandas version: 2.2.3\n",
      "einops version: NOT INSTALLED or UNKNOWN VERSION.\n",
      "transformers version: NOT INSTALLED or UNKNOWN VERSION.\n",
      "mlflow version: NOT INSTALLED or UNKNOWN VERSION.\n",
      "pynrrd version: NOT INSTALLED or UNKNOWN VERSION.\n",
      "clearml version: NOT INSTALLED or UNKNOWN VERSION.\n",
      "\n",
      "For details about installing the optional dependencies, please visit:\n",
      "    https://docs.monai.io/en/latest/installation.html#installing-the-recommended-dependencies\n",
      "\n"
     ]
    }
   ],
   "source": [
    "import os\n",
    "import shutil\n",
    "import tempfile\n",
    "import time\n",
    "import matplotlib.pyplot as plt\n",
    "from monai.apps import DecathlonDataset\n",
    "from monai.config import print_config\n",
    "from monai.data import DataLoader, decollate_batch, CacheDataset, Dataset\n",
    "from monai.handlers.utils import from_engine\n",
    "from monai.losses import DiceLoss\n",
    "from monai.inferers import sliding_window_inference\n",
    "from monai.metrics import DiceMetric\n",
    "from monai.networks.nets import SegResNet\n",
    "from myutils import ConvertToMultiChannelHeadRecod\n",
    "from monai.transforms import (\n",
    "    Activations,\n",
    "    Activationsd,\n",
    "    AsDiscrete,\n",
    "    AsDiscreted,\n",
    "    Compose,\n",
    "    Invertd,\n",
    "    LoadImaged,\n",
    "    MapTransform,\n",
    "    NormalizeIntensityd,\n",
    "    Orientationd,\n",
    "    RandFlipd,\n",
    "    RandScaleIntensityd,\n",
    "    RandShiftIntensityd,\n",
    "    RandSpatialCropd,\n",
    "    Resized,\n",
    "    Spacingd,\n",
    "    EnsureTyped,\n",
    "    EnsureChannelFirstd,\n",
    ")\n",
    "from monai.utils import set_determinism\n",
    "import onnxruntime\n",
    "from tqdm import tqdm\n",
    "\n",
    "import torch\n",
    "\n",
    "from mymodels import SegResNetLatentOut\n",
    "\n",
    "print_config()"
   ]
  },
  {
   "cell_type": "code",
   "execution_count": 3,
   "metadata": {},
   "outputs": [],
   "source": [
    "set_determinism(seed=0)"
   ]
  },
  {
   "cell_type": "code",
   "execution_count": 4,
   "metadata": {},
   "outputs": [],
   "source": [
    "import monai\n",
    "import numpy as np\n",
    "\n",
    "class RandomConvexCombination(monai.transforms.RandomizableTransform):\n",
    "    \"\"\"def __init__(self, keys=[], prob=0.5):\n",
    "        super().__init__()\n",
    "        self.keys = keys\n",
    "        self.prob = prob\n",
    "    \"\"\"\n",
    "\n",
    "    def randomize(self):\n",
    "        super().randomize(None)\n",
    "        self._alpha = self.R.uniform(low=0, high=1)\n",
    "\n",
    "    def __call__(self, data):\n",
    "        d = dict(data)\n",
    "        \"\"\"for key in self.keys:\n",
    "            if self.prob > 0 and self.randomize() < self.prob:\n",
    "                img1 = d[key]\n",
    "                img2 = d[key]  # Assuming T1 and T2 have the same key\n",
    "                alpha = self.randomize()\n",
    "                d[\"image\"] = alpha * img1 + (1 - alpha) * img2\n",
    "        \"\"\"\n",
    "        self.randomize()\n",
    "        if not self._do_transform:\n",
    "            return d\n",
    "\n",
    "        d[\"image\"] = self._alpha * d[\"t1_image\"] + (1.0-self._alpha) * d[\"t2_image\"]\n",
    "        \n",
    "        return d"
   ]
  },
  {
   "cell_type": "markdown",
   "metadata": {},
   "source": [
    "## Define a new transform to convert brain tumor labels\n",
    "\n",
    "Here we convert the multi-classes labels into multi-labels segmentation task in One-Hot format."
   ]
  },
  {
   "cell_type": "markdown",
   "metadata": {},
   "source": [
    "## Setup transforms for training and validation"
   ]
  },
  {
   "cell_type": "code",
   "execution_count": 5,
   "metadata": {},
   "outputs": [],
   "source": [
    "train_transform = Compose(\n",
    "    [\n",
    "        # load 4 Nifti images and stack them together\n",
    "        LoadImaged(keys=[\"t1_image\",\"t2_image\",  \"label\"],allow_missing_keys=True),\n",
    "        ConvertToMultiChannelHeadRecod(keys=\"label\",allow_missing_keys=True),\n",
    "        EnsureChannelFirstd(keys=[\"t1_image\",\"t2_image\"]),\n",
    "        EnsureTyped(keys=[\"t1_image\",\"t2_image\", \"label\"],allow_missing_keys=True),\n",
    "        Orientationd(keys=[\"t1_image\",\"t2_image\", \"label\"], axcodes=\"RAS\",allow_missing_keys=True),\n",
    "        Resized(keys=[\"t1_image\",\"t2_image\", \"label\"], spatial_size=[64, 64, 64], mode=(\"trilinear\",\"trilinear\", \"nearest\"),allow_missing_keys=True),\n",
    "       # RandSpatialCropd(keys=[\"image\", \"label\"], roi_size=[224, 224, 144], random_size=False),\n",
    "        RandFlipd(keys=[\"t1_image\",\"t2_image\", \"label\"], prob=0.5, spatial_axis=0,allow_missing_keys=True),\n",
    "        RandFlipd(keys=[\"t1_image\",\"t2_image\", \"label\"], prob=0.5, spatial_axis=1,allow_missing_keys=True),\n",
    "        RandFlipd(keys=[\"t1_image\",\"t2_image\", \"label\"], prob=0.5, spatial_axis=2,allow_missing_keys=True),\n",
    "        NormalizeIntensityd(keys=[\"t1_image\",\"t2_image\"], nonzero=True, channel_wise=True,allow_missing_keys=True),\n",
    "        RandScaleIntensityd(keys=[\"t1_image\",\"t2_image\"], factors=0.1, prob=1.0,allow_missing_keys=True),\n",
    "        RandShiftIntensityd(keys=[\"t1_image\",\"t2_image\"], offsets=0.1, prob=1.0,allow_missing_keys=True),\n",
    "        #RandomConvexCombination()\n",
    "    ]\n",
    ")\n",
    "val_transform = Compose(\n",
    "    [\n",
    "        LoadImaged(keys=[\"t1_image\",\"t2_image\", \"label\"],allow_missing_keys=True),\n",
    "        ConvertToMultiChannelHeadRecod(keys=\"label\",allow_missing_keys=True),\n",
    "        EnsureChannelFirstd(keys=[\"t1_image\",\"t2_image\"],allow_missing_keys=True),\n",
    "        EnsureTyped(keys=[\"t1_image\",\"t2_image\", \"label\"],allow_missing_keys=True),\n",
    "        Orientationd(keys=[\"t1_image\",\"t2_image\", \"label\"], axcodes=\"RAS\",allow_missing_keys=True),\n",
    "        #Spacingd(\n",
    "        #    keys=[\"image\", \"label\"],\n",
    "        #    pixdim=(2.0, 2.0, 2.0),\n",
    "        #    mode=(\"bilinear\", \"nearest\"),\n",
    "        #),\n",
    "        Resized(keys=[\"t1_image\",\"t2_image\", \"label\"], spatial_size=[64, 64, 64], mode=(\"trilinear\", \"trilinear\",\"nearest\"),allow_missing_keys=True),\n",
    "        NormalizeIntensityd(keys=[\"t1_image\",\"t2_image\"], nonzero=True, channel_wise=True,allow_missing_keys=True),\n",
    "    ]\n",
    ")"
   ]
  },
  {
   "cell_type": "code",
   "execution_count": 6,
   "metadata": {},
   "outputs": [
    {
     "name": "stdout",
     "output_type": "stream",
     "text": [
      "       ID  Session  Age  Gestational_age_at_birth     Sex\n",
      "0  116056        3  3.6                      40.4    Male\n",
      "1  116845        3  3.6                      37.7  Female\n",
      "2  116845        6  6.5                      37.7  Female\n",
      "3  176427        5  5.0                      41.7  Female\n",
      "4  198202        5  5.9                      40.1    Male\n",
      "['/home/ajoshi/project_ajoshi_27/BOBS_Repo/V1.0/sub-116056/ses-3mo/anat/sub-116056_ses-3mo_space-INFANTMNIacpc_T1w.nii.gz', '/home/ajoshi/project_ajoshi_27/BOBS_Repo/V1.0/sub-116845/ses-3mo/anat/sub-116845_ses-3mo_space-INFANTMNIacpc_T1w.nii.gz', '/home/ajoshi/project_ajoshi_27/BOBS_Repo/V1.0/sub-116845/ses-6mo/anat/sub-116845_ses-6mo_space-INFANTMNIacpc_T1w.nii.gz', '/home/ajoshi/project_ajoshi_27/BOBS_Repo/V1.0/sub-176427/ses-5mo/anat/sub-176427_ses-5mo_space-INFANTMNIacpc_T1w.nii.gz', '/home/ajoshi/project_ajoshi_27/BOBS_Repo/V1.0/sub-198202/ses-5mo/anat/sub-198202_ses-5mo_space-INFANTMNIacpc_T1w.nii.gz']\n",
      "['/home/ajoshi/project_ajoshi_27/BOBS_Repo/V1.0/sub-116056/ses-3mo/anat/sub-116056_ses-3mo_space-INFANTMNIacpc_T2w.nii.gz', '/home/ajoshi/project_ajoshi_27/BOBS_Repo/V1.0/sub-116845/ses-3mo/anat/sub-116845_ses-3mo_space-INFANTMNIacpc_T2w.nii.gz', '/home/ajoshi/project_ajoshi_27/BOBS_Repo/V1.0/sub-116845/ses-6mo/anat/sub-116845_ses-6mo_space-INFANTMNIacpc_T2w.nii.gz', '/home/ajoshi/project_ajoshi_27/BOBS_Repo/V1.0/sub-176427/ses-5mo/anat/sub-176427_ses-5mo_space-INFANTMNIacpc_T2w.nii.gz', '/home/ajoshi/project_ajoshi_27/BOBS_Repo/V1.0/sub-198202/ses-5mo/anat/sub-198202_ses-5mo_space-INFANTMNIacpc_T2w.nii.gz']\n",
      "['/home/ajoshi/project_ajoshi_27/BOBS_Repo/V1.0/sub-116056/ses-3mo/anat/sub-116056_ses-3mo_space-INFANTMNIacpc_desc-aseg_dseg.nii.gz', '/home/ajoshi/project_ajoshi_27/BOBS_Repo/V1.0/sub-116845/ses-3mo/anat/sub-116845_ses-3mo_space-INFANTMNIacpc_desc-aseg_dseg.nii.gz', '/home/ajoshi/project_ajoshi_27/BOBS_Repo/V1.0/sub-116845/ses-6mo/anat/sub-116845_ses-6mo_space-INFANTMNIacpc_desc-aseg_dseg.nii.gz', '/home/ajoshi/project_ajoshi_27/BOBS_Repo/V1.0/sub-176427/ses-5mo/anat/sub-176427_ses-5mo_space-INFANTMNIacpc_desc-aseg_dseg.nii.gz', '/home/ajoshi/project_ajoshi_27/BOBS_Repo/V1.0/sub-198202/ses-5mo/anat/sub-198202_ses-5mo_space-INFANTMNIacpc_desc-aseg_dseg.nii.gz']\n",
      "[3.6, 3.6, 6.5, 5.0, 5.9]\n",
      "71\n"
     ]
    },
    {
     "name": "stderr",
     "output_type": "stream",
     "text": [
      "Loading dataset: 100%|██████████| 56/56 [01:12<00:00,  1.29s/it]\n",
      "Loading dataset: 100%|██████████| 15/15 [00:16<00:00,  1.11s/it]\n"
     ]
    }
   ],
   "source": [
    "# Load BOBs repository data\n",
    "data_dir = '/home/ajoshi/project_ajoshi_27/BOBS_Repo/V1.0'\n",
    "if not os.path.exists(data_dir):\n",
    "    sub_data = '/project/ajoshi_27/BOBS_Repo/V1.0'\n",
    "\n",
    "# Read tsv file\n",
    "import pandas as pd\n",
    "df = pd.read_csv(os.path.join(data_dir, 'participants.tsv'), sep='\\t')\n",
    "# Read the following comments from the tsv file : ID, Session, Age, Gestational_age_at_birth, Sex\n",
    "\n",
    "# Read the following comments from the tsv file : ID, Session, Age, Gestational_age\n",
    "df = pd.read_csv(os.path.join(data_dir, 'participants.tsv'), sep='\\t')\n",
    "\n",
    "\n",
    "# Display the first few rows of the dataframe\n",
    "print(df.head())\n",
    "\n",
    "t1_files = []\n",
    "t2_files = []\n",
    "label_files = []\n",
    "ages = []\n",
    "for idx, row in df.iterrows():\n",
    "    t1file = os.path.join(data_dir, 'sub-'+str(row['ID']), 'ses-'+str(row['Session'])+'mo', 'anat', 'sub-'+str(row['ID'])+'_ses-'+str(row['Session'])+'mo'+'_space-INFANTMNIacpc'+'_T1w.nii.gz')\n",
    "\n",
    "    if os.path.exists(t1file):\n",
    "        t1_files.append(t1file)\n",
    "    else:\n",
    "        print('File not found: ', t1file)\n",
    "\n",
    "\n",
    "    t2file = os.path.join(data_dir, 'sub-'+str(row['ID']), 'ses-'+str(row['Session'])+'mo', 'anat', 'sub-'+str(row['ID'])+'_ses-'+str(row['Session'])+'mo'+'_space-INFANTMNIacpc'+'_T2w.nii.gz')\n",
    "\n",
    "    if os.path.exists(t2file):\n",
    "        t2_files.append(t2file)\n",
    "    else:\n",
    "        print('File not found: ', t2file)\n",
    "\n",
    "    labelfile = os.path.join(data_dir, 'sub-'+str(row['ID']), 'ses-'+str(row['Session'])+'mo', 'anat', 'sub-'+str(row['ID'])+'_ses-'+str(row['Session'])+'mo'+'_space-INFANTMNIacpc'+'_desc-aseg_dseg.nii.gz')\n",
    "\n",
    "    if os.path.exists(labelfile):\n",
    "        label_files.append(labelfile)\n",
    "    else:\n",
    "        print('File not found: ', labelfile)\n",
    "\n",
    "\n",
    "    #t2_files.append(os.path.join(data_dir, 'sub-'+row['ID'], 'ses-'+row['Session'], 'anat', 'sub-'+row['ID']+'_ses-'+row['Session']+'_T2w.nii.gz'))\n",
    "    #label_files.append(os.path.join(data_dir, 'sub-'+row['ID'], 'ses-'+row['Session'], 'anat', 'sub-'+row['ID']+'_ses-'+row['Session']+'_label.nii.gz'))\n",
    "    ages.append(row['Age'])\n",
    "\n",
    "# Display the first few rows of the dataframe\n",
    "print(t1_files[:5])\n",
    "print(t2_files[:5])\n",
    "print(label_files[:5])\n",
    "print(ages[:5])\n",
    "\n",
    "# Load the data\n",
    "data = [{\"t1_image\": t1, \"t2_image\": t2, \"label\": label, \"age\": age} for t1, t2, label, age in zip(t1_files, t2_files, label_files, ages)]\n",
    "print(len(data))\n",
    "\n",
    "# Split the data into training and validation sets\n",
    "n_train = int(0.8 * len(data))\n",
    "n_val = len(data) - n_train\n",
    "train_data, val_data = torch.utils.data.random_split(data, [n_train, n_val])\n",
    "\n",
    "# Create the training and validation datasets\n",
    "train_ds = CacheDataset(data=train_data, transform=train_transform, cache_rate=1.0, num_workers=4)\n",
    "val_ds = CacheDataset(data=val_data, transform=val_transform, cache_rate=1.0, num_workers=4)\n",
    "\n",
    "# Create the training and validation data loaders\n",
    "train_loader_bob = DataLoader(train_ds, batch_size=2, shuffle=True, num_workers=4)\n",
    "val_loader_bob = DataLoader(val_ds, batch_size=2, num_workers=4)\n",
    "\n",
    "\n",
    "\n",
    "\n",
    "\n"
   ]
  },
  {
   "cell_type": "markdown",
   "metadata": {},
   "source": [
    "## Check data shape and visualize"
   ]
  },
  {
   "cell_type": "code",
   "execution_count": 7,
   "metadata": {},
   "outputs": [
    {
     "name": "stdout",
     "output_type": "stream",
     "text": [
      "image shape: torch.Size([1, 64, 64, 64])\n",
      "image shape: torch.Size([1, 64, 64, 64])\n"
     ]
    },
    {
     "data": {
      "image/png": "[encoded data removed]",
      "text/plain": [
       "<Figure size 1200x300 with 3 Axes>"
      ]
     },
     "metadata": {},
     "output_type": "display_data"
    },
    {
     "name": "stdout",
     "output_type": "stream",
     "text": [
      "age: 5.4\n",
      "image shape: torch.Size([1, 64, 64, 64])\n",
      "image shape: torch.Size([1, 64, 64, 64])\n"
     ]
    },
    {
     "data": {
      "image/png": "[encoded data removed]",
      "text/plain": [
       "<Figure size 1200x300 with 3 Axes>"
      ]
     },
     "metadata": {},
     "output_type": "display_data"
    },
    {
     "name": "stdout",
     "output_type": "stream",
     "text": [
      "age: 8.7\n",
      "image shape: torch.Size([1, 64, 64, 64])\n",
      "image shape: torch.Size([1, 64, 64, 64])\n"
     ]
    },
    {
     "data": {
      "image/png": "[encoded data removed]",
      "text/plain": [
       "<Figure size 1200x300 with 3 Axes>"
      ]
     },
     "metadata": {},
     "output_type": "display_data"
    },
    {
     "name": "stdout",
     "output_type": "stream",
     "text": [
      "age: 7.4\n",
      "image shape: torch.Size([1, 64, 64, 64])\n",
      "image shape: torch.Size([1, 64, 64, 64])\n"
     ]
    },
    {
     "data": {
      "image/png": "[encoded data removed]",
      "text/plain": [
       "<Figure size 1200x300 with 3 Axes>"
      ]
     },
     "metadata": {},
     "output_type": "display_data"
    },
    {
     "name": "stdout",
     "output_type": "stream",
     "text": [
      "age: 8.8\n",
      "image shape: torch.Size([1, 64, 64, 64])\n",
      "image shape: torch.Size([1, 64, 64, 64])\n"
     ]
    },
    {
     "data": {
      "image/png": "[encoded data removed]",
      "text/plain": [
       "<Figure size 1200x300 with 3 Axes>"
      ]
     },
     "metadata": {},
     "output_type": "display_data"
    },
    {
     "name": "stdout",
     "output_type": "stream",
     "text": [
      "age: 1.8\n"
     ]
    }
   ],
   "source": [
    "for jj in range(5):\n",
    "    val_data_example = train_ds[jj]\n",
    "    print(f\"image shape: {val_data_example['t1_image'].shape}\")\n",
    "    print(f\"image shape: {val_data_example['t2_image'].shape}\")\n",
    "    #print(val_data_example.get('age', None))\n",
    "\n",
    "    plt.figure(\"t1 and t2 images\", (12, 3))\n",
    "    plt.subplot(1, 3, 1)\n",
    "    plt.title(f\"t1 image \")\n",
    "    plt.imshow(val_data_example[\"t1_image\"][0, :, :, 48].detach().cpu(), cmap=\"gray\")\n",
    "    plt.subplot(1, 3, 2)\n",
    "    plt.title(f\"t2 image\")\n",
    "    plt.imshow(val_data_example[\"t2_image\"][0, :, :, 48].detach().cpu(), cmap=\"gray\")\n",
    "    plt.subplot(1, 3, 3)\n",
    "    plt.title(f\"label image \")\n",
    "    plt.imshow(val_data_example[\"label\"][1, :, :, 48].detach().cpu(), cmap=\"hot\")\n",
    "    plt.show()\n",
    "    print(f\"age: {val_data_example['age']}\")\n",
    "\n",
    "\n",
    "\n",
    "\n"
   ]
  },
  {
   "cell_type": "markdown",
   "metadata": {},
   "source": [
    "## Create Model, Loss, Optimizer"
   ]
  },
  {
   "cell_type": "code",
   "execution_count": 8,
   "metadata": {},
   "outputs": [
    {
     "name": "stderr",
     "output_type": "stream",
     "text": [
      "/tmp/ipykernel_14866/908971095.py:50: FutureWarning: `torch.cuda.amp.GradScaler(args...)` is deprecated. Please use `torch.amp.GradScaler('cuda', args...)` instead.\n",
      "  scaler = torch.cuda.amp.GradScaler()\n"
     ]
    }
   ],
   "source": [
    "max_epochs = 300\n",
    "val_interval = 5\n",
    "VAL_AMP = True\n",
    "\n",
    "# standard PyTorch program style: create SegResNet, DiceLoss and Adam optimizer\n",
    "device = torch.device(\"cuda:0\")\n",
    "model = SegResNetLatentOut(\n",
    "    blocks_down=[1, 2, 2, 4],\n",
    "    blocks_up=[1, 1, 1],\n",
    "    init_filters=8,\n",
    "    in_channels=1,\n",
    "    out_channels=2,\n",
    "    dropout_prob=0.2,\n",
    ").to(device)\n",
    "\n",
    "\n",
    "# at the latent layter, add a small neural network to predict brain age\n",
    "#model.add_module(\"fc1\", torch.nn.Linear(512, 1))\n",
    "\n",
    "\n",
    "loss_function = DiceLoss(smooth_nr=0, smooth_dr=1e-5, squared_pred=True, to_onehot_y=False, sigmoid=True)\n",
    "optimizer = torch.optim.Adam(model.parameters(), 1e-4, weight_decay=1e-5)\n",
    "lr_scheduler = torch.optim.lr_scheduler.CosineAnnealingLR(optimizer, T_max=max_epochs)\n",
    "\n",
    "dice_metric = DiceMetric(include_background=True, reduction=\"mean\")\n",
    "dice_metric_batch = DiceMetric(include_background=True, reduction=\"mean_batch\")\n",
    "\n",
    "post_trans = Compose([Activations(sigmoid=True), AsDiscrete(threshold=0.5)])\n",
    "\n",
    "\n",
    "# define inference method\n",
    "def inference(input):\n",
    "    def _compute(input):\n",
    "        return sliding_window_inference(\n",
    "            inputs=input,\n",
    "            roi_size=(96, 96, 96),\n",
    "            sw_batch_size=1,\n",
    "            predictor=model,\n",
    "            overlap=0.5,\n",
    "        )\n",
    "\n",
    "    if VAL_AMP:\n",
    "        with torch.cuda.amp.autocast():\n",
    "            return _compute(input)\n",
    "    else:\n",
    "        return _compute(input)\n",
    "\n",
    "\n",
    "# use amp to accelerate training\n",
    "scaler = torch.cuda.amp.GradScaler()\n",
    "# enable cuDNN benchmark\n",
    "torch.backends.cudnn.benchmark = True"
   ]
  },
  {
   "cell_type": "markdown",
   "metadata": {},
   "source": [
    "## Execute a typical PyTorch training process"
   ]
  },
  {
   "cell_type": "code",
   "execution_count": 9,
   "metadata": {
    "scrolled": true,
    "tags": []
   },
   "outputs": [
    {
     "name": "stdout",
     "output_type": "stream",
     "text": [
      "----------\n",
      "epoch 1/300\n",
      "torch.Size([2, 1, 64, 64, 64])\n",
      "metatensor([[[[[-0.0903, -0.0903, -0.0903,  ..., -0.0903, -0.0903, -0.0903],\n",
      "           [-0.0903, -0.0903, -0.0903,  ..., -0.0903, -0.0903, -0.0903],\n",
      "           [-0.0903, -0.0903, -0.0903,  ..., -0.0903, -0.0903, -0.0903],\n",
      "           ...,\n",
      "           [-0.0903, -0.0903, -0.0903,  ..., -0.0903, -0.0903, -0.0903],\n",
      "           [-0.0903, -0.0903, -0.0903,  ..., -0.0903, -0.0903, -0.0903],\n",
      "           [-0.0903, -0.0903, -0.0903,  ..., -0.0903, -0.0903, -0.0903]],\n",
      "\n",
      "          [[-0.0903, -0.0903, -0.0903,  ..., -0.0903, -0.0903, -0.0903],\n",
      "           [-0.0903, -0.0903, -0.0903,  ..., -0.0903, -0.0903, -0.0903],\n",
      "           [-0.0903, -0.0903, -0.0903,  ..., -0.0903, -0.0903, -0.0903],\n",
      "           ...,\n",
      "           [-0.0903, -0.0903, -0.0903,  ..., -0.0903, -0.0903, -0.0903],\n",
      "           [-0.0903, -0.0903, -0.0903,  ..., -0.0903, -0.0903, -0.0903],\n",
      "           [-0.0903, -0.0903, -0.0903,  ..., -0.0903, -0.0903, -0.0903]],\n",
      "\n",
      "          [[-0.0903, -0.0903, -0.0903,  ..., -0.0903, -0.0903, -0.0903],\n",
      "           [-0.0903, -0.0903, -0.0903,  ..., -0.0903, -0.0903, -0.0903],\n",
      "           [-0.0903, -0.0903, -0.0903,  ..., -0.0903, -0.0903, -0.0903],\n",
      "           ...,\n",
      "           [-0.0903, -0.0903, -0.0903,  ..., -0.0903, -0.0903, -0.0903],\n",
      "           [-0.0903, -0.0903, -0.0903,  ..., -0.0903, -0.0903, -0.0903],\n",
      "           [-0.0903, -0.0903, -0.0903,  ..., -0.0903, -0.0903, -0.0903]],\n",
      "\n",
      "          ...,\n",
      "\n",
      "          [[-0.0903, -0.0903, -0.0903,  ..., -0.0903, -0.0903, -0.0903],\n",
      "           [-0.0903, -0.0903, -0.0903,  ..., -0.0903, -0.0903, -0.0903],\n",
      "           [-0.0903, -0.0903, -0.0903,  ..., -0.0903, -0.0903, -0.0903],\n",
      "           ...,\n",
      "           [-0.0903, -0.0903, -0.0903,  ..., -0.0903, -0.0903, -0.0903],\n",
      "           [-0.0903, -0.0903, -0.0903,  ..., -0.0903, -0.0903, -0.0903],\n",
      "           [-0.0903, -0.0903, -0.0903,  ..., -0.0903, -0.0903, -0.0903]],\n",
      "\n",
      "          [[-0.0903, -0.0903, -0.0903,  ..., -0.0903, -0.0903, -0.0903],\n",
      "           [-0.0903, -0.0903, -0.0903,  ..., -0.0903, -0.0903, -0.0903],\n",
      "           [-0.0903, -0.0903, -0.0903,  ..., -0.0903, -0.0903, -0.0903],\n",
      "           ...,\n",
      "           [-0.0903, -0.0903, -0.0903,  ..., -0.0903, -0.0903, -0.0903],\n",
      "           [-0.0903, -0.0903, -0.0903,  ..., -0.0903, -0.0903, -0.0903],\n",
      "           [-0.0903, -0.0903, -0.0903,  ..., -0.0903, -0.0903, -0.0903]],\n",
      "\n",
      "          [[-0.0903, -0.0903, -0.0903,  ..., -0.0903, -0.0903, -0.0903],\n",
      "           [-0.0903, -0.0903, -0.0903,  ..., -0.0903, -0.0903, -0.0903],\n",
      "           [-0.0903, -0.0903, -0.0903,  ..., -0.0903, -0.0903, -0.0903],\n",
      "           ...,\n",
      "           [-0.0903, -0.0903, -0.0903,  ..., -0.0903, -0.0903, -0.0903],\n",
      "           [-0.0903, -0.0903, -0.0903,  ..., -0.0903, -0.0903, -0.0903],\n",
      "           [-0.0903, -0.0903, -0.0903,  ..., -0.0903, -0.0903, -0.0903]]]],\n",
      "\n",
      "\n",
      "\n",
      "        [[[[ 0.0285,  0.0285,  0.0285,  ...,  0.0285,  0.0285,  0.0285],\n",
      "           [ 0.0285,  0.0285,  0.0285,  ...,  0.0285,  0.0285,  0.0285],\n",
      "           [ 0.0285,  0.0285,  0.0285,  ...,  0.0285,  0.0285,  0.0285],\n",
      "           ...,\n",
      "           [ 0.0285,  0.0285,  0.0285,  ...,  0.0285,  0.0285,  0.0285],\n",
      "           [ 0.0285,  0.0285,  0.0285,  ...,  0.0285,  0.0285,  0.0285],\n",
      "           [ 0.0285,  0.0285,  0.0285,  ...,  0.0285,  0.0285,  0.0285]],\n",
      "\n",
      "          [[ 0.0285,  0.0285,  0.0285,  ...,  0.0285,  0.0285,  0.0285],\n",
      "           [ 0.0285,  0.0285,  0.0285,  ...,  0.0285,  0.0285,  0.0285],\n",
      "           [ 0.0285,  0.0285,  0.0285,  ...,  0.0285,  0.0285,  0.0285],\n",
      "           ...,\n",
      "           [ 0.0285,  0.0285,  0.0285,  ...,  0.0285,  0.0285,  0.0285],\n",
      "           [ 0.0285,  0.0285,  0.0285,  ...,  0.0285,  0.0285,  0.0285],\n",
      "           [ 0.0285,  0.0285,  0.0285,  ...,  0.0285,  0.0285,  0.0285]],\n",
      "\n",
      "          [[ 0.0285,  0.0285,  0.0285,  ...,  0.0285,  0.0285,  0.0285],\n",
      "           [ 0.0285,  0.0285,  0.0285,  ...,  0.0285,  0.0285,  0.0285],\n",
      "           [ 0.0285,  0.0285,  0.0285,  ...,  0.0285,  0.0285,  0.0285],\n",
      "           ...,\n",
      "           [ 0.0285,  0.0285,  0.0285,  ...,  0.0285,  0.0285,  0.0285],\n",
      "           [ 0.0285,  0.0285,  0.0285,  ...,  0.0285,  0.0285,  0.0285],\n",
      "           [ 0.0285,  0.0285,  0.0285,  ...,  0.0285,  0.0285,  0.0285]],\n",
      "\n",
      "          ...,\n",
      "\n",
      "          [[ 0.0285,  0.0285,  0.0285,  ...,  0.0285,  0.0285,  0.0285],\n",
      "           [ 0.0285,  0.0285,  0.0285,  ...,  0.0285,  0.0285,  0.0285],\n",
      "           [ 0.0285,  0.0285,  0.0285,  ...,  0.0285,  0.0285,  0.0285],\n",
      "           ...,\n",
      "           [ 0.0285,  0.0285,  0.0285,  ...,  0.0285,  0.0285,  0.0285],\n",
      "           [ 0.0285,  0.0285,  0.0285,  ...,  0.0285,  0.0285,  0.0285],\n",
      "           [ 0.0285,  0.0285,  0.0285,  ...,  0.0285,  0.0285,  0.0285]],\n",
      "\n",
      "          [[ 0.0285,  0.0285,  0.0285,  ...,  0.0285,  0.0285,  0.0285],\n",
      "           [ 0.0285,  0.0285,  0.0285,  ...,  0.0285,  0.0285,  0.0285],\n",
      "           [ 0.0285,  0.0285,  0.0285,  ...,  0.0285,  0.0285,  0.0285],\n",
      "           ...,\n",
      "           [ 0.0285,  0.0285,  0.0285,  ...,  0.0285,  0.0285,  0.0285],\n",
      "           [ 0.0285,  0.0285,  0.0285,  ...,  0.0285,  0.0285,  0.0285],\n",
      "           [ 0.0285,  0.0285,  0.0285,  ...,  0.0285,  0.0285,  0.0285]],\n",
      "\n",
      "          [[ 0.0285,  0.0285,  0.0285,  ...,  0.0285,  0.0285,  0.0285],\n",
      "           [ 0.0285,  0.0285,  0.0285,  ...,  0.0285,  0.0285,  0.0285],\n",
      "           [ 0.0285,  0.0285,  0.0285,  ...,  0.0285,  0.0285,  0.0285],\n",
      "           ...,\n",
      "           [ 0.0285,  0.0285,  0.0285,  ...,  0.0285,  0.0285,  0.0285],\n",
      "           [ 0.0285,  0.0285,  0.0285,  ...,  0.0285,  0.0285,  0.0285],\n",
      "           [ 0.0285,  0.0285,  0.0285,  ...,  0.0285,  0.0285,  0.0285]]]]],\n",
      "       device='cuda:0')\n",
      "age: tensor([3.2000, 2.7000], device='cuda:0', dtype=torch.float64)\n"
     ]
    },
    {
     "name": "stderr",
     "output_type": "stream",
     "text": [
      "/tmp/ipykernel_14866/1002310890.py:37: FutureWarning: `torch.cuda.amp.autocast(args...)` is deprecated. Please use `torch.amp.autocast('cuda', args...)` instead.\n",
      "  with torch.cuda.amp.autocast():\n"
     ]
    },
    {
     "ename": "AssertionError",
     "evalue": "ground truth has different shape (torch.Size([2, 3, 64, 64, 64])) from input (torch.Size([2, 2, 64, 64, 64]))",
     "output_type": "error",
     "traceback": [
      "\u001b[0;31m---------------------------------------------------------------------------\u001b[0m",
      "\u001b[0;31mAssertionError\u001b[0m                            Traceback (most recent call last)",
      "Cell \u001b[0;32mIn[9], line 41\u001b[0m\n\u001b[1;32m     37\u001b[0m \u001b[38;5;28;01mwith\u001b[39;00m torch\u001b[38;5;241m.\u001b[39mcuda\u001b[38;5;241m.\u001b[39mamp\u001b[38;5;241m.\u001b[39mautocast():\n\u001b[1;32m     38\u001b[0m     \u001b[38;5;66;03m#inputs.shape\u001b[39;00m\n\u001b[1;32m     39\u001b[0m     \u001b[38;5;66;03m#model(inputs)\u001b[39;00m\n\u001b[1;32m     40\u001b[0m     outputs, out_age \u001b[38;5;241m=\u001b[39m model(inputs)\n\u001b[0;32m---> 41\u001b[0m     loss \u001b[38;5;241m=\u001b[39m \u001b[43mloss_function\u001b[49m\u001b[43m(\u001b[49m\u001b[43moutputs\u001b[49m\u001b[43m,\u001b[49m\u001b[43m \u001b[49m\u001b[43mlabels\u001b[49m\u001b[43m)\u001b[49m\n\u001b[1;32m     42\u001b[0m scaler\u001b[38;5;241m.\u001b[39mscale(loss)\u001b[38;5;241m.\u001b[39mbackward()\n\u001b[1;32m     43\u001b[0m scaler\u001b[38;5;241m.\u001b[39mstep(optimizer)\n",
      "File \u001b[0;32m~/my_venv/lib/python3.11/site-packages/torch/nn/modules/module.py:1736\u001b[0m, in \u001b[0;36mModule._wrapped_call_impl\u001b[0;34m(self, *args, **kwargs)\u001b[0m\n\u001b[1;32m   1734\u001b[0m     \u001b[38;5;28;01mreturn\u001b[39;00m \u001b[38;5;28mself\u001b[39m\u001b[38;5;241m.\u001b[39m_compiled_call_impl(\u001b[38;5;241m*\u001b[39margs, \u001b[38;5;241m*\u001b[39m\u001b[38;5;241m*\u001b[39mkwargs)  \u001b[38;5;66;03m# type: ignore[misc]\u001b[39;00m\n\u001b[1;32m   1735\u001b[0m \u001b[38;5;28;01melse\u001b[39;00m:\n\u001b[0;32m-> 1736\u001b[0m     \u001b[38;5;28;01mreturn\u001b[39;00m \u001b[38;5;28;43mself\u001b[39;49m\u001b[38;5;241;43m.\u001b[39;49m\u001b[43m_call_impl\u001b[49m\u001b[43m(\u001b[49m\u001b[38;5;241;43m*\u001b[39;49m\u001b[43margs\u001b[49m\u001b[43m,\u001b[49m\u001b[43m \u001b[49m\u001b[38;5;241;43m*\u001b[39;49m\u001b[38;5;241;43m*\u001b[39;49m\u001b[43mkwargs\u001b[49m\u001b[43m)\u001b[49m\n",
      "File \u001b[0;32m~/my_venv/lib/python3.11/site-packages/torch/nn/modules/module.py:1747\u001b[0m, in \u001b[0;36mModule._call_impl\u001b[0;34m(self, *args, **kwargs)\u001b[0m\n\u001b[1;32m   1742\u001b[0m \u001b[38;5;66;03m# If we don't have any hooks, we want to skip the rest of the logic in\u001b[39;00m\n\u001b[1;32m   1743\u001b[0m \u001b[38;5;66;03m# this function, and just call forward.\u001b[39;00m\n\u001b[1;32m   1744\u001b[0m \u001b[38;5;28;01mif\u001b[39;00m \u001b[38;5;129;01mnot\u001b[39;00m (\u001b[38;5;28mself\u001b[39m\u001b[38;5;241m.\u001b[39m_backward_hooks \u001b[38;5;129;01mor\u001b[39;00m \u001b[38;5;28mself\u001b[39m\u001b[38;5;241m.\u001b[39m_backward_pre_hooks \u001b[38;5;129;01mor\u001b[39;00m \u001b[38;5;28mself\u001b[39m\u001b[38;5;241m.\u001b[39m_forward_hooks \u001b[38;5;129;01mor\u001b[39;00m \u001b[38;5;28mself\u001b[39m\u001b[38;5;241m.\u001b[39m_forward_pre_hooks\n\u001b[1;32m   1745\u001b[0m         \u001b[38;5;129;01mor\u001b[39;00m _global_backward_pre_hooks \u001b[38;5;129;01mor\u001b[39;00m _global_backward_hooks\n\u001b[1;32m   1746\u001b[0m         \u001b[38;5;129;01mor\u001b[39;00m _global_forward_hooks \u001b[38;5;129;01mor\u001b[39;00m _global_forward_pre_hooks):\n\u001b[0;32m-> 1747\u001b[0m     \u001b[38;5;28;01mreturn\u001b[39;00m \u001b[43mforward_call\u001b[49m\u001b[43m(\u001b[49m\u001b[38;5;241;43m*\u001b[39;49m\u001b[43margs\u001b[49m\u001b[43m,\u001b[49m\u001b[43m \u001b[49m\u001b[38;5;241;43m*\u001b[39;49m\u001b[38;5;241;43m*\u001b[39;49m\u001b[43mkwargs\u001b[49m\u001b[43m)\u001b[49m\n\u001b[1;32m   1749\u001b[0m result \u001b[38;5;241m=\u001b[39m \u001b[38;5;28;01mNone\u001b[39;00m\n\u001b[1;32m   1750\u001b[0m called_always_called_hooks \u001b[38;5;241m=\u001b[39m \u001b[38;5;28mset\u001b[39m()\n",
      "File \u001b[0;32m~/my_venv/lib/python3.11/site-packages/monai/losses/dice.py:169\u001b[0m, in \u001b[0;36mDiceLoss.forward\u001b[0;34m(self, input, target)\u001b[0m\n\u001b[1;32m    166\u001b[0m         \u001b[38;5;28minput\u001b[39m \u001b[38;5;241m=\u001b[39m \u001b[38;5;28minput\u001b[39m[:, \u001b[38;5;241m1\u001b[39m:]\n\u001b[1;32m    168\u001b[0m \u001b[38;5;28;01mif\u001b[39;00m target\u001b[38;5;241m.\u001b[39mshape \u001b[38;5;241m!=\u001b[39m \u001b[38;5;28minput\u001b[39m\u001b[38;5;241m.\u001b[39mshape:\n\u001b[0;32m--> 169\u001b[0m     \u001b[38;5;28;01mraise\u001b[39;00m \u001b[38;5;167;01mAssertionError\u001b[39;00m(\u001b[38;5;124mf\u001b[39m\u001b[38;5;124m\"\u001b[39m\u001b[38;5;124mground truth has different shape (\u001b[39m\u001b[38;5;132;01m{\u001b[39;00mtarget\u001b[38;5;241m.\u001b[39mshape\u001b[38;5;132;01m}\u001b[39;00m\u001b[38;5;124m) from input (\u001b[39m\u001b[38;5;132;01m{\u001b[39;00m\u001b[38;5;28minput\u001b[39m\u001b[38;5;241m.\u001b[39mshape\u001b[38;5;132;01m}\u001b[39;00m\u001b[38;5;124m)\u001b[39m\u001b[38;5;124m\"\u001b[39m)\n\u001b[1;32m    171\u001b[0m \u001b[38;5;66;03m# reducing only spatial dimensions (not batch nor channels)\u001b[39;00m\n\u001b[1;32m    172\u001b[0m reduce_axis: \u001b[38;5;28mlist\u001b[39m[\u001b[38;5;28mint\u001b[39m] \u001b[38;5;241m=\u001b[39m torch\u001b[38;5;241m.\u001b[39marange(\u001b[38;5;241m2\u001b[39m, \u001b[38;5;28mlen\u001b[39m(\u001b[38;5;28minput\u001b[39m\u001b[38;5;241m.\u001b[39mshape))\u001b[38;5;241m.\u001b[39mtolist()\n",
      "\u001b[0;31mAssertionError\u001b[0m: ground truth has different shape (torch.Size([2, 3, 64, 64, 64])) from input (torch.Size([2, 2, 64, 64, 64]))"
     ]
    }
   ],
   "source": [
    "best_metric = -1\n",
    "best_metric_epoch = -1\n",
    "best_metrics_epochs_and_time = [[], [], []]\n",
    "epoch_loss_values = []\n",
    "metric_values = []\n",
    "metric_values_tc = []\n",
    "metric_values_wt = []\n",
    "metric_values_et = []\n",
    "\n",
    "total_start = time.time()\n",
    "for epoch in range(max_epochs):\n",
    "    epoch_start = time.time()\n",
    "    print(\"-\" * 10)\n",
    "    print(f\"epoch {epoch + 1}/{max_epochs}\")\n",
    "    model.train()\n",
    "    epoch_loss = 0\n",
    "    step = 0\n",
    "    for batch_data in train_loader_bob:\n",
    "        step_start = time.time()\n",
    "        step += 1\n",
    "        inputs = batch_data[\"t1_image\"].to(device)\n",
    "        print(inputs.shape)\n",
    "        print(inputs)\n",
    "        labels = batch_data.get(\"label\")\n",
    "        #.to(device) #torch.zeros_like(inputs)\n",
    "        age = batch_data.get(\"age\").to(device)\n",
    "        print(f\"age: {age}\")\n",
    "        #continue\n",
    "        \"\"\"if labels is None:\n",
    "            labels = torch.zeros_like(inputs)\n",
    "        if age is None:\n",
    "            age = torch.zeros(inputs.size(0), device=device)\n",
    "        \"\"\"\n",
    "        optimizer.zero_grad()\n",
    "\n",
    "\n",
    "        with torch.cuda.amp.autocast():\n",
    "            #inputs.shape\n",
    "            #model(inputs)\n",
    "            outputs, out_age = model(inputs)\n",
    "            loss = loss_function(outputs, labels)\n",
    "        scaler.scale(loss).backward()\n",
    "        scaler.step(optimizer)\n",
    "        scaler.update()\n",
    "        epoch_loss += loss.item()\n",
    "        print(\n",
    "            f\"{step}/{len(train_ds) // train_loader_bob.batch_size}\"\n",
    "            f\", train_loss: {loss.item():.4f}\"\n",
    "            f\", step time: {(time.time() - step_start):.4f}\"\n",
    "        )\n",
    "    lr_scheduler.step()\n",
    "    epoch_loss /= step\n",
    "    epoch_loss_values.append(epoch_loss)\n",
    "    print(f\"epoch {epoch + 1} average loss: {epoch_loss:.4f}\")\n",
    "\n",
    "    if (epoch + 1) % val_interval == 0:\n",
    "        model.eval()\n",
    "        with torch.no_grad():\n",
    "            for val_data in val_loader_bob:\n",
    "                val_inputs, val_labels = (\n",
    "                    val_data[\"t1_image\"].to(device),\n",
    "                    val_data[\"label\"].to(device),\n",
    "                )\n",
    "                val_outputs = inference(val_inputs)\n",
    "                val_outputs = [post_trans(i) for i in decollate_batch(val_outputs)]\n",
    "                dice_metric(y_pred=val_outputs, y=val_labels)\n",
    "                dice_metric_batch(y_pred=val_outputs, y=val_labels)\n",
    "\n",
    "            metric = dice_metric.aggregate().item()\n",
    "            metric_values.append(metric)\n",
    "            metric_batch = dice_metric_batch.aggregate()\n",
    "            metric_tc = metric_batch[0].item()\n",
    "            metric_values_tc.append(metric_tc)\n",
    "            metric_wt = metric_batch[1].item()\n",
    "            metric_values_wt.append(metric_wt)\n",
    "            metric_et = metric_batch[2].item()\n",
    "            metric_values_et.append(metric_et)\n",
    "            dice_metric.reset()\n",
    "            dice_metric_batch.reset()\n",
    "\n",
    "            if metric > best_metric:\n",
    "                best_metric = metric\n",
    "                best_metric_epoch = epoch + 1\n",
    "                best_metrics_epochs_and_time[0].append(best_metric)\n",
    "                best_metrics_epochs_and_time[1].append(best_metric_epoch)\n",
    "                best_metrics_epochs_and_time[2].append(time.time() - total_start)\n",
    "                torch.save(\n",
    "                    model.state_dict(),\n",
    "                    os.path.join(root_dir, \"best_metric_model.pth\"),\n",
    "                )\n",
    "                print(\"saved new best metric model\")\n",
    "            print(\n",
    "                f\"current epoch: {epoch + 1} current mean dice: {metric:.4f}\"\n",
    "                f\" tc: {metric_tc:.4f} wt: {metric_wt:.4f} et: {metric_et:.4f}\"\n",
    "                f\"\\nbest mean dice: {best_metric:.4f}\"\n",
    "                f\" at epoch: {best_metric_epoch}\"\n",
    "            )\n",
    "    print(f\"time consuming of epoch {epoch + 1} is: {(time.time() - epoch_start):.4f}\")\n",
    "total_time = time.time() - total_start\n",
    "print(f\"train completed, best_metric: {best_metric:.4f} at epoch: {best_metric_epoch}\")"
   ]
  },
  {
   "cell_type": "code",
   "execution_count": null,
   "metadata": {},
   "outputs": [],
   "source": []
  },
  {
   "cell_type": "code",
   "execution_count": null,
   "metadata": {
    "tags": []
   },
   "outputs": [],
   "source": [
    "print(f\"train completed, best_metric: {best_metric:.4f} at epoch: {best_metric_epoch}, total time: {total_time}.\")"
   ]
  },
  {
   "cell_type": "markdown",
   "metadata": {},
   "source": [
    "## Plot the loss and metric"
   ]
  },
  {
   "cell_type": "code",
   "execution_count": null,
   "metadata": {},
   "outputs": [],
   "source": [
    "plt.figure(\"train\", (12, 6))\n",
    "plt.subplot(1, 2, 1)\n",
    "plt.title(\"Epoch Average Loss\")\n",
    "x = [i + 1 for i in range(len(epoch_loss_values))]\n",
    "y = epoch_loss_values\n",
    "plt.xlabel(\"epoch\")\n",
    "plt.plot(x, y, color=\"red\")\n",
    "plt.subplot(1, 2, 2)\n",
    "plt.title(\"Val Mean Dice\")\n",
    "x = [val_interval * (i + 1) for i in range(len(metric_values))]\n",
    "y = metric_values\n",
    "plt.xlabel(\"epoch\")\n",
    "plt.plot(x, y, color=\"green\")\n",
    "plt.show()\n",
    "\n",
    "plt.figure(\"train\", (18, 6))\n",
    "plt.subplot(1, 3, 1)\n",
    "plt.title(\"Val Mean Dice TC\")\n",
    "x = [val_interval * (i + 1) for i in range(len(metric_values_tc))]\n",
    "y = metric_values_tc\n",
    "plt.xlabel(\"epoch\")\n",
    "plt.plot(x, y, color=\"blue\")\n",
    "plt.subplot(1, 3, 2)\n",
    "plt.title(\"Val Mean Dice WT\")\n",
    "x = [val_interval * (i + 1) for i in range(len(metric_values_wt))]\n",
    "y = metric_values_wt\n",
    "plt.xlabel(\"epoch\")\n",
    "plt.plot(x, y, color=\"brown\")\n",
    "plt.subplot(1, 3, 3)\n",
    "plt.title(\"Val Mean Dice ET\")\n",
    "x = [val_interval * (i + 1) for i in range(len(metric_values_et))]\n",
    "y = metric_values_et\n",
    "plt.xlabel(\"epoch\")\n",
    "plt.plot(x, y, color=\"purple\")\n",
    "plt.show()"
   ]
  },
  {
   "cell_type": "markdown",
   "metadata": {},
   "source": [
    "## Check best pytorch model output with the input image and label"
   ]
  },
  {
   "cell_type": "code",
   "execution_count": null,
   "metadata": {},
   "outputs": [],
   "source": [
    "model.load_state_dict(torch.load(os.path.join(root_dir, \"best_metric_model.pth\")))\n",
    "model.eval()\n",
    "with torch.no_grad():\n",
    "    # select one image to evaluate and visualize the model output\n",
    "    val_input = val_ds[6][\"image\"].unsqueeze(0).to(device)\n",
    "    roi_size = (96, 96, 96)\n",
    "    sw_batch_size = 4\n",
    "    val_output = inference(val_input)\n",
    "    print('shape of labels ',val_ds[6][\"label\"].shape)\n",
    "\n",
    "\n",
    "    val_output = post_trans(val_output[0])\n",
    "    plt.figure(\"image\", (24, 6))\n",
    "    for i in range(1):\n",
    "        plt.subplot(1, 4, i + 1)\n",
    "        plt.title(f\"image channel {i}\")\n",
    "        plt.imshow(val_ds[6][\"image\"][i, :, :, 48].detach().cpu(), cmap=\"gray\")\n",
    "    plt.show()\n",
    "    \n",
    "    # visualize the 3 channels label corresponding to this image\n",
    "    plt.figure(\"label\", (18, 6))\n",
    "    for i in range(3):\n",
    "        plt.subplot(1, 3, i + 1)\n",
    "        plt.title(f\"label channel {i}\")\n",
    "        plt.imshow(val_ds[6][\"label\"][i, :, :, 48].detach().cpu())\n",
    "    plt.show()\n",
    "    # visualize the 3 channels model output corresponding to this image\n",
    "    plt.figure(\"output\", (18, 6))\n",
    "    for i in range(3):\n",
    "        plt.subplot(1, 3, i + 1)\n",
    "        plt.title(f\"output channel {i}\")\n",
    "        plt.imshow(val_output[i, :, :, 48].detach().cpu())\n",
    "    plt.show()"
   ]
  },
  {
   "cell_type": "markdown",
   "metadata": {},
   "source": [
    "## Evaluation on original image spacings"
   ]
  },
  {
   "cell_type": "code",
   "execution_count": null,
   "metadata": {},
   "outputs": [],
   "source": [
    "val_transform = Compose(\n",
    "    [\n",
    "        LoadImaged(keys=[\"image\", \"label\"]),\n",
    "        ConvertToMultiChannelHeadRecod(keys=\"label\"),\n",
    "        EnsureChannelFirstd(keys=[\"image\"]),\n",
    "        EnsureTyped(keys=[\"image\", \"label\"]),\n",
    "        Orientationd(keys=[\"image\", \"label\"], axcodes=\"RAS\"),\n",
    "        #Spacingd(\n",
    "        #    keys=[\"image\", \"label\"],\n",
    "        #    pixdim=(2.0, 2.0, 2.0),\n",
    "        #    mode=(\"bilinear\", \"nearest\"),\n",
    "        #),\n",
    "        Resized(keys=[\"image\", \"label\"], spatial_size=[96, 96, 96], mode=(\"trilinear\", \"nearest\")),\n",
    "        NormalizeIntensityd(keys=\"image\", nonzero=True, channel_wise=True),\n",
    "    ]\n",
    ")\n",
    "\n",
    "val_org_transforms = Compose(\n",
    "    [\n",
    "        LoadImaged(keys=[\"image\", \"label\"]),\n",
    "        ConvertToMultiChannelHeadRecod(keys=\"label\"),\n",
    "        #EnsureChannelFirstd(keys=[\"image\"]),\n",
    "        Orientationd(keys=[\"image\"], axcodes=\"RAS\"),\n",
    "        Resized(keys=[\"image\"], spatial_size=[96, 96, 96], mode=(\"trilinear\")),\n",
    "        NormalizeIntensityd(keys=\"image\", nonzero=True, channel_wise=True),\n",
    "    ]\n",
    ")\n",
    "\n",
    "# val_ds = CacheDataset(data=val_files, transform=val_transform, cache_rate=1.0, num_workers=4)\n",
    "val_org_ds = Dataset(data=val_files, transform=val_transform)\n",
    "val_org_loader = DataLoader(val_org_ds, batch_size=1, shuffle=False, num_workers=4)\n",
    "\n",
    "post_transforms = Compose(\n",
    "    [\n",
    "        Invertd(\n",
    "            keys=\"pred\",\n",
    "            transform=val_org_transforms,\n",
    "            orig_keys=\"image1\",\n",
    "            meta_keys=\"pred_meta_dict\",\n",
    "            orig_meta_keys=\"image_meta_dict\",\n",
    "            meta_key_postfix=\"meta_dict\",\n",
    "            nearest_interp=False,\n",
    "            to_tensor=True,\n",
    "            device=\"cpu\",\n",
    "        ),\n",
    "        Activationsd(keys=\"pred\", sigmoid=True),\n",
    "        AsDiscreted(keys=\"pred\", threshold=0.5),\n",
    "    ]\n",
    ")"
   ]
  },
  {
   "cell_type": "code",
   "execution_count": null,
   "metadata": {},
   "outputs": [],
   "source": [
    "model.load_state_dict(torch.load(os.path.join(root_dir, \"best_metric_model.pth\")))\n",
    "model.eval()\n",
    "device = 'cuda:0'\n",
    "with torch.no_grad():\n",
    "    for val_data in val_org_loader:\n",
    "        val_inputs = val_data[\"image\"].to(device)\n",
    "        val_data[\"pred\"] = inference(val_inputs)\n",
    "        print('shape of labels ',val_data[\"label\"].shape)\n",
    "        val_data = decollate_batch(val_data)\n",
    "        print('shape of labels ',len(val_data))\n",
    "        val_data = [post_transforms(i) for i in val_data]\n",
    "        val_outputs, val_labels = from_engine([\"pred\", \"label\"])(val_data)\n",
    "        dice_metric(y_pred=val_outputs, y=val_labels)\n",
    "        dice_metric_batch(y_pred=val_outputs, y=val_labels)\n",
    "\n",
    "    metric_org = dice_metric.aggregate().item()\n",
    "    metric_batch_org = dice_metric_batch.aggregate()\n",
    "\n",
    "    dice_metric.reset()\n",
    "    dice_metric_batch.reset()\n",
    "\n",
    "metric_tc, metric_wt, metric_et = metric_batch_org[0].item(), metric_batch_org[1].item(), metric_batch_org[2].item()\n",
    "\n",
    "print(\"Metric on original image spacing: \", metric_org)\n",
    "print(f\"metric_tc: {metric_tc:.4f}\")\n",
    "print(f\"metric_wt: {metric_wt:.4f}\")\n",
    "print(f\"metric_et: {metric_et:.4f}\")"
   ]
  },
  {
   "cell_type": "markdown",
   "metadata": {},
   "source": [
    "## Convert torch to onnx model"
   ]
  },
  {
   "cell_type": "code",
   "execution_count": null,
   "metadata": {},
   "outputs": [],
   "source": [
    "dummy_input = torch.randn(1, 4, 240, 240, 160).to(device)\n",
    "onnx_path = os.path.join(root_dir, \"best_metric_model.onnx\")\n",
    "torch.onnx.export(model, dummy_input, onnx_path, verbose=False)"
   ]
  },
  {
   "cell_type": "markdown",
   "metadata": {},
   "source": [
    "## Inference onnx model\n",
    "Here we change the model used by predictor to onnx_infer, both of which are used to obtain a tensor after the input has been reasoned by the neural network.\n",
    "\n",
    "Note: If the warning `pthread_setaffinity_np failed` appears when executing this cell, this is a known problem with the onnxruntime and does not affect the execution result. If you want to disable the warning, you can cancel the following comment to solve the problem."
   ]
  },
  {
   "cell_type": "code",
   "execution_count": null,
   "metadata": {},
   "outputs": [],
   "source": [
    "# Using the following program snippet will not affect the execution time.\n",
    "# options = ort.SessionOptions()\n",
    "# options.intra_op_num_threads = 1\n",
    "# options.inter_op_num_threads = 1"
   ]
  },
  {
   "cell_type": "code",
   "execution_count": null,
   "metadata": {},
   "outputs": [],
   "source": [
    "def onnx_infer(inputs):\n",
    "    ort_inputs = {ort_session.get_inputs()[0].name: inputs.cpu().numpy()}\n",
    "    ort_outs = ort_session.run(None, ort_inputs)\n",
    "    return torch.Tensor(ort_outs[0]).to(inputs.device)\n",
    "\n",
    "\n",
    "def predict(input):\n",
    "    def _compute(input):\n",
    "        return sliding_window_inference(\n",
    "            inputs=input,\n",
    "            roi_size=(96, 96, 96),\n",
    "            sw_batch_size=1,\n",
    "            predictor=onnx_infer,\n",
    "            overlap=0.5,\n",
    "        )\n",
    "\n",
    "    if VAL_AMP:\n",
    "        with torch.cuda.amp.autocast():\n",
    "            return _compute(input)\n",
    "    else:\n",
    "        return _compute(input)"
   ]
  },
  {
   "cell_type": "code",
   "execution_count": null,
   "metadata": {},
   "outputs": [],
   "source": [
    "onnx_model_path = os.path.join(root_dir, \"best_metric_model.onnx\")\n",
    "ort_session = onnxruntime.InferenceSession(onnx_model_path)\n",
    "\n",
    "for val_data in tqdm(val_loader, desc=\"Onnxruntime Inference Progress\"):\n",
    "    val_inputs, val_labels = (\n",
    "        val_data[\"image\"].to(device),\n",
    "        val_data[\"label\"].to(device),\n",
    "    )\n",
    "\n",
    "    ort_outs = predict(val_inputs)\n",
    "    val_outputs = post_trans(torch.Tensor(ort_outs[0]).to(device)).unsqueeze(0)\n",
    "\n",
    "    dice_metric(y_pred=val_outputs, y=val_labels)\n",
    "    dice_metric_batch(y_pred=val_outputs, y=val_labels)\n",
    "onnx_metric = dice_metric.aggregate().item()\n",
    "onnx_metric_batch = dice_metric_batch.aggregate()\n",
    "onnx_metric_tc = onnx_metric_batch[0].item()\n",
    "onnx_metric_wt = onnx_metric_batch[1].item()\n",
    "onnx_metric_et = onnx_metric_batch[2].item()\n",
    "\n",
    "print(f\"onnx metric: {onnx_metric}\")\n",
    "print(f\"onnx_metric_tc: {onnx_metric_tc:.4f}\")\n",
    "print(f\"onnx_metric_wt: {onnx_metric_wt:.4f}\")\n",
    "print(f\"onnx_metric_et: {onnx_metric_et:.4f}\")"
   ]
  },
  {
   "cell_type": "markdown",
   "metadata": {},
   "source": [
    "## Check best onnx model output with the input image and label"
   ]
  },
  {
   "cell_type": "code",
   "execution_count": null,
   "metadata": {},
   "outputs": [],
   "source": [
    "onnx_model_path = os.path.join(root_dir, \"best_metric_model.onnx\")\n",
    "ort_session = onnxruntime.InferenceSession(onnx_model_path)\n",
    "model.load_state_dict(torch.load(os.path.join(root_dir, \"best_metric_model.pth\")))\n",
    "model.eval()\n",
    "\n",
    "with torch.no_grad():\n",
    "    # select one image to evaluate and visualize the model output\n",
    "    val_input = val_ds[6][\"image\"].unsqueeze(0).to(device)\n",
    "    val_output = inference(val_input)\n",
    "    val_output = post_trans(val_output[0])\n",
    "    ort_output = predict(val_input)\n",
    "    ort_output = post_trans(torch.Tensor(ort_output[0]).to(device)).unsqueeze(0)\n",
    "    plt.figure(\"image\", (24, 6))\n",
    "    for i in range(4):\n",
    "        plt.subplot(1, 4, i + 1)\n",
    "        plt.title(f\"image channel {i}\")\n",
    "        plt.imshow(val_ds[6][\"image\"][i, :, :, 70].detach().cpu(), cmap=\"gray\")\n",
    "    plt.show()\n",
    "    # visualize the 3 channels label corresponding to this image\n",
    "    plt.figure(\"label\", (18, 6))\n",
    "    for i in range(3):\n",
    "        plt.subplot(1, 3, i + 1)\n",
    "        plt.title(f\"label channel {i}\")\n",
    "        plt.imshow(val_ds[6][\"label\"][i, :, :, 70].detach().cpu())\n",
    "    plt.show()\n",
    "    # visualize the 3 channels model output corresponding to this image\n",
    "    plt.figure(\"output\", (18, 6))\n",
    "    for i in range(3):\n",
    "        plt.subplot(1, 3, i + 1)\n",
    "        plt.title(f\"pth output channel {i}\")\n",
    "        plt.imshow(val_output[i, :, :, 70].detach().cpu())\n",
    "    plt.show()\n",
    "    plt.figure(\"output\", (18, 6))\n",
    "    for i in range(3):\n",
    "        plt.subplot(1, 3, i + 1)\n",
    "        plt.title(f\"onnx output channel {i}\")\n",
    "        plt.imshow(ort_output[0, i, :, :, 70].detach().cpu())\n",
    "    plt.show()"
   ]
  }
 ],
 "metadata": {
  "kernelspec": {
   "display_name": "my_venv",
   "language": "python",
   "name": "python3"
  },
  "language_info": {
   "codemirror_mode": {
    "name": "ipython",
    "version": 3
   },
   "file_extension": ".py",
   "mimetype": "text/x-python",
   "name": "python",
   "nbconvert_exporter": "python",
   "pygments_lexer": "ipython3",
   "version": "3.11.2"
  }
 },
 "nbformat": 4,
 "nbformat_minor": 4
}
